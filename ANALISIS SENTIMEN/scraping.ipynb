{
  "nbformat": 4,
  "nbformat_minor": 0,
  "metadata": {
    "colab": {
      "provenance": []
    },
    "kernelspec": {
      "name": "python3",
      "display_name": "Python 3"
    },
    "language_info": {
      "name": "python"
    }
  },
  "cells": [
    {
      "cell_type": "code",
      "source": [
        "!pip install google-play-scraper"
      ],
      "metadata": {
        "colab": {
          "base_uri": "https://localhost:8080/"
        },
        "id": "D-4K4Bvbe9ak",
        "outputId": "4b2f2cbf-87ad-4724-829c-27c9b0b2fb0c"
      },
      "execution_count": 5,
      "outputs": [
        {
          "output_type": "stream",
          "name": "stdout",
          "text": [
            "Requirement already satisfied: google-play-scraper in /usr/local/lib/python3.11/dist-packages (1.2.7)\n"
          ]
        }
      ]
    },
    {
      "cell_type": "code",
      "source": [
        "from google_play_scraper import Sort, reviews\n",
        "import pandas as pd"
      ],
      "metadata": {
        "id": "TwmS_N8he_S5"
      },
      "execution_count": 6,
      "outputs": []
    },
    {
      "cell_type": "code",
      "execution_count": 7,
      "metadata": {
        "id": "sVwhzuRSe34j"
      },
      "outputs": [],
      "source": [
        "def fetch_reviews(app_id, target_score, limit=5000):\n",
        "    all_reviews = []\n",
        "    token = None\n",
        "\n",
        "    while len(all_reviews) < limit:\n",
        "        result, token = reviews(\n",
        "            app_id,\n",
        "            lang='id',\n",
        "            country='id',\n",
        "            sort=Sort.NEWEST,\n",
        "            count=200,\n",
        "            continuation_token=token\n",
        "        )\n",
        "\n",
        "        for r in result:\n",
        "            if r['score'] == target_score:\n",
        "                all_reviews.append(r)\n",
        "\n",
        "            if len(all_reviews) >= limit:\n",
        "                break\n",
        "\n",
        "        if not token:\n",
        "            break\n",
        "\n",
        "    return all_reviews"
      ]
    },
    {
      "cell_type": "code",
      "source": [
        "# Ambil data review dari berbagai skor (1-5)\n",
        "data = []\n",
        "for score in range(1, 6):\n",
        "    data.extend(fetch_reviews('com.whatsapp', score))\n",
        "\n",
        "# Simpan hasil ke DataFrame dan ekspor ke CSV\n",
        "df = pd.DataFrame(data)\n",
        "df[['score', 'content']].to_csv('google_play_reviews.csv', index=False, encoding='utf-8-sig')"
      ],
      "metadata": {
        "id": "7CHIf4LbfGdj"
      },
      "execution_count": 8,
      "outputs": []
    }
  ]
}